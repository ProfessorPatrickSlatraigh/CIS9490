{
  "nbformat": 4,
  "nbformat_minor": 0,
  "metadata": {
    "colab": {
      "provenance": [],
      "authorship_tag": "ABX9TyOblkfCulYczvjIKWqOtehb",
      "include_colab_link": true
    },
    "kernelspec": {
      "name": "python3",
      "display_name": "Python 3"
    },
    "language_info": {
      "name": "python"
    }
  },
  "cells": [
    {
      "cell_type": "markdown",
      "metadata": {
        "id": "view-in-github",
        "colab_type": "text"
      },
      "source": [
        "<a href=\"https://colab.research.google.com/github/ProfessorPatrickSlatraigh/CIS9490/blob/main/classInheritance.ipynb\" target=\"_parent\"><img src=\"https://colab.research.google.com/assets/colab-badge.svg\" alt=\"Open In Colab\"/></a>"
      ]
    },
    {
      "cell_type": "markdown",
      "source": [
        "#Class Definition and Inheritance  \n",
        "\n",
        "##<b>This Example Demonstrates:</b>  \n",
        "**<u>Base (Parent) Class</u>**   \n",
        "- **Includes one attribute and one method**  \n",
        "  \n",
        "**<u>Child Class Adds Properties</u>**  \n",
        "- **Inherits one attribute and one method**  \n",
        "- **Adds another attribute and another method**  \n",
        "  \n",
        "*by Professor Patrick on 15-Oct-2023, 16-Oct-2023*  \n"
      ],
      "metadata": {
        "id": "d9ni5XuN6H4s"
      }
    },
    {
      "cell_type": "markdown",
      "source": [
        "\n",
        "\n",
        "---\n",
        "\n"
      ],
      "metadata": {
        "id": "w6I8VWf4Is1D"
      }
    },
    {
      "cell_type": "markdown",
      "source": [
        "##Defining a Class  \n",
        "- **attributes**  \n",
        "- **methods(functions)**  "
      ],
      "metadata": {
        "id": "a1bcKBIH0rZ1"
      }
    },
    {
      "cell_type": "markdown",
      "source": [
        "<b><u>SIMPLE CLASS DEFINITION</b></u>  \n"
      ],
      "metadata": {
        "id": "mIygSzeZ0kNl"
      }
    },
    {
      "cell_type": "markdown",
      "source": [
        "The class definition should include the following:  \n",
        "  \n",
        "|Component|Form|Use|  \n",
        "|---|---|---|  \n",
        "|Definition| `class` Name:| - defines `Name` as a class|\n",
        "|Init| def `__init__(self, ...)`| - defines one-time, initiation function|  \n",
        "|Init args| (self, ...)| - starts with `self` then list of args|  \n",
        "|Attributes| self.attribute = `kwarg`| - sets attribute values |\n",
        "|Methods| def Method(self):| - sets methods|   \n",
        "|Local Vars| self.attribute| - use of attributes inside methods|  \n",
        "  \n",
        "    "
      ],
      "metadata": {
        "id": "aLTo_lH86j3O"
      }
    },
    {
      "cell_type": "markdown",
      "source": [
        "*A class definition always needs itself (`self`) as an argument*  \n",
        "*A class definition executes `__init__()` on launch*  \n",
        "*The `__initi__()` method always needs at least one line of code*  \n"
      ],
      "metadata": {
        "id": "h8DBBsDi81nq"
      }
    },
    {
      "cell_type": "markdown",
      "source": [
        "####Class Definition   \n",
        "  "
      ],
      "metadata": {
        "id": "jiMGY7zxIFKb"
      }
    },
    {
      "cell_type": "markdown",
      "source": [
        "The following **Class** definition of `Thing` includes:  \n",
        "- an attribute named `.arg1`  \n",
        "- a function named `.print_arg()`   \n",
        "  "
      ],
      "metadata": {
        "id": "9jeHKc67x5xM"
      }
    },
    {
      "cell_type": "code",
      "source": [
        "class Thing:\n",
        "    def __init__(self, arg1):\n",
        "        self.arg1 = arg1\n",
        "\n",
        "    def print_arg(self):\n",
        "        print(f\"Argument: `{self.arg1}`\")\n"
      ],
      "metadata": {
        "id": "geQ4aKUx0pbk"
      },
      "execution_count": 70,
      "outputs": []
    },
    {
      "cell_type": "markdown",
      "source": [
        "####Working With a Class Object     \n",
        "  "
      ],
      "metadata": {
        "id": "H9fscl3pINRV"
      }
    },
    {
      "cell_type": "markdown",
      "source": [
        "#####Create a Class Object   \n",
        "  \n",
        "\n"
      ],
      "metadata": {
        "id": "6AhBiFpVI2xN"
      }
    },
    {
      "cell_type": "code",
      "source": [
        "w = 'This is in the argument'\n",
        "t1 = Thing(w)"
      ],
      "metadata": {
        "id": "tarc7qVT40-h"
      },
      "execution_count": 77,
      "outputs": []
    },
    {
      "cell_type": "markdown",
      "source": [
        "#####Explore the Created Object's Propeties  \n",
        "  "
      ],
      "metadata": {
        "id": "rS_DN6rAI62Z"
      }
    },
    {
      "cell_type": "code",
      "source": [
        "t1.arg1                    # attribute of the object"
      ],
      "metadata": {
        "id": "7MrFk6W75VaK"
      },
      "execution_count": null,
      "outputs": []
    },
    {
      "cell_type": "code",
      "source": [
        "t1.print_arg()             # method of the object"
      ],
      "metadata": {
        "id": "lzd0n6Oa5etf"
      },
      "execution_count": null,
      "outputs": []
    },
    {
      "cell_type": "code",
      "source": [
        "dir(t1)                    # directory of the object's properties"
      ],
      "metadata": {
        "id": "T5ZtjuIuJcn5"
      },
      "execution_count": null,
      "outputs": []
    },
    {
      "cell_type": "markdown",
      "source": [
        "\n",
        "\n",
        "---\n",
        "\n"
      ],
      "metadata": {
        "id": "NTvIDjlKx04n"
      }
    },
    {
      "cell_type": "markdown",
      "source": [
        "####Class Definition   \n",
        "  "
      ],
      "metadata": {
        "id": "jvtI-5x-IHhF"
      }
    },
    {
      "cell_type": "markdown",
      "source": [
        "The following **Class** definition of `AnotherThing` includes:  \n",
        "- an attribute named `.arg1`  \n",
        "- an attribute named `.twice` that is two times the argument\n",
        "- a function named `.print_arg()`   \n",
        "- a function named `.twice_arg_length()`\n",
        "   \n"
      ],
      "metadata": {
        "id": "xpYIiEWSyVjq"
      }
    },
    {
      "cell_type": "code",
      "source": [
        "class AnotherThing:\n",
        "    def __init__(self, arg1):\n",
        "        self.arg1 = arg1\n",
        "        self.twice = arg1*2\n",
        "\n",
        "    def print_arg(self):\n",
        "        print(f\"Argument: `{self.arg1}`\")\n",
        "\n",
        "    def twice_arg_length(self):\n",
        "        print(f\"Twice the length of argument is {len(self.twice)}.\")\n"
      ],
      "metadata": {
        "id": "VSD3LInQw134"
      },
      "execution_count": 81,
      "outputs": []
    },
    {
      "cell_type": "markdown",
      "source": [
        "####Working With a Class Object     \n",
        "  "
      ],
      "metadata": {
        "id": "2xH_76F2ITjp"
      }
    },
    {
      "cell_type": "markdown",
      "source": [
        "#####Create a Class Object   \n",
        "  \n"
      ],
      "metadata": {
        "id": "4JB627gFJImP"
      }
    },
    {
      "cell_type": "code",
      "source": [
        "x = 'This is another argument'\n",
        "t2 = AnotherThing(x)"
      ],
      "metadata": {
        "id": "2Fh7K2vQw4Mi"
      },
      "execution_count": 82,
      "outputs": []
    },
    {
      "cell_type": "markdown",
      "source": [
        "#####Explore the Created Object's Propeties  \n",
        "  "
      ],
      "metadata": {
        "id": "FyKYcT5dJY09"
      }
    },
    {
      "cell_type": "code",
      "source": [
        "t2.arg1                   # attribute of the object"
      ],
      "metadata": {
        "id": "_KlAQ0NvxE8h"
      },
      "execution_count": null,
      "outputs": []
    },
    {
      "cell_type": "code",
      "source": [
        "t2.twice                  # attribute of the object"
      ],
      "metadata": {
        "id": "9w085m7NwnIY"
      },
      "execution_count": null,
      "outputs": []
    },
    {
      "cell_type": "code",
      "source": [
        "t2.twice_arg_length()     # method of the object"
      ],
      "metadata": {
        "id": "M4bFwPiLxVH_"
      },
      "execution_count": null,
      "outputs": []
    },
    {
      "cell_type": "code",
      "source": [
        "dir(t2)                   # directory of the object's properties"
      ],
      "metadata": {
        "id": "vgnwqh7UJZ7S"
      },
      "execution_count": null,
      "outputs": []
    },
    {
      "cell_type": "markdown",
      "source": [
        "\n",
        "\n",
        "---\n",
        "\n"
      ],
      "metadata": {
        "id": "iOPWbIvqzOt4"
      }
    },
    {
      "cell_type": "markdown",
      "source": [
        "##Class Inheritance   \n"
      ],
      "metadata": {
        "id": "GnSCghpz09qF"
      }
    },
    {
      "cell_type": "markdown",
      "source": [
        "We do not need to repeat the common properties (attributes and methods) of the `Thing` class when creating `AnotherThing` class -- we can inherit them.  We show *inheritance* in the **Class** definition by passing the **base** (or parent) **Class** as an argument to the new **child**  **Class** definition.  \n",
        "\n"
      ],
      "metadata": {
        "id": "L32z_-AWzPvm"
      }
    },
    {
      "cell_type": "markdown",
      "source": [
        "###Simple Inheritance"
      ],
      "metadata": {
        "id": "mRKfuRZv1XNj"
      }
    },
    {
      "cell_type": "markdown",
      "source": [
        "####Class Definition   \n",
        "  "
      ],
      "metadata": {
        "id": "s74UowjOH7hT"
      }
    },
    {
      "cell_type": "code",
      "source": [
        "class ChildThing(Thing):\n",
        "    pass  # `pass` does nothing - a placeholder line"
      ],
      "metadata": {
        "id": "X6ms4KHKznpD"
      },
      "execution_count": 86,
      "outputs": []
    },
    {
      "cell_type": "markdown",
      "source": [
        "####Working With a Class Object     \n",
        "  "
      ],
      "metadata": {
        "id": "NPNGjP46IVKD"
      }
    },
    {
      "cell_type": "markdown",
      "source": [
        "#####Create a Class Object   \n",
        "  \n"
      ],
      "metadata": {
        "id": "XkDTybGUJKfZ"
      }
    },
    {
      "cell_type": "code",
      "source": [
        "y = 'This is a third argument'\n",
        "t3 = ChildThing(y)"
      ],
      "metadata": {
        "id": "ocmDKN-C0GYU"
      },
      "execution_count": 87,
      "outputs": []
    },
    {
      "cell_type": "markdown",
      "source": [
        "#####Explore the Created Object's Propeties  \n",
        "  "
      ],
      "metadata": {
        "id": "abipjYRmJgRh"
      }
    },
    {
      "cell_type": "code",
      "source": [
        "t3.arg1                   # attribute of the object"
      ],
      "metadata": {
        "id": "OxZHXBgb0Odk"
      },
      "execution_count": null,
      "outputs": []
    },
    {
      "cell_type": "code",
      "source": [
        "t3.print_arg()            # method of the object"
      ],
      "metadata": {
        "id": "gw6ADVo10Q2f"
      },
      "execution_count": null,
      "outputs": []
    },
    {
      "cell_type": "code",
      "source": [
        "dir(t3)                   # directory of the object's properties"
      ],
      "metadata": {
        "id": "NOkcQfp_Fi5E"
      },
      "execution_count": null,
      "outputs": []
    },
    {
      "cell_type": "markdown",
      "source": [
        "Note that the **Class** `ChildThing` does not include the following:  \n",
        "- an attribute `.twice`  \n",
        "- a method `.twice_arg_length()`  \n"
      ],
      "metadata": {
        "id": "r9OhkcAcHC1W"
      }
    },
    {
      "cell_type": "markdown",
      "source": [
        "\n",
        "\n",
        "---\n",
        "\n"
      ],
      "metadata": {
        "id": "v-JlvnngFhmG"
      }
    },
    {
      "cell_type": "markdown",
      "source": [
        "###Inheritance with Extended Properties  \n"
      ],
      "metadata": {
        "id": "e-f3v9I_1dAn"
      }
    },
    {
      "cell_type": "markdown",
      "source": [
        "####Class Definition   \n",
        "  "
      ],
      "metadata": {
        "id": "w1oQLwH_H_Nj"
      }
    },
    {
      "cell_type": "code",
      "source": [
        "class ExtendedChildThing(Thing):\n",
        "    def __init__(self, arg1):\n",
        "        super().__init__(arg1)       # use of `super()` inherits properties\n",
        "        self.doubled = arg1 *2       # extending attribute\n",
        "\n",
        "    def doubled_arg_length(self):    # extending method\n",
        "        print(f\"Length of doubled-argument is {len(self.doubled)}.\")\n"
      ],
      "metadata": {
        "id": "EdB61pt91ibP"
      },
      "execution_count": 206,
      "outputs": []
    },
    {
      "cell_type": "markdown",
      "source": [
        "####Working With a Class Object     \n",
        "  "
      ],
      "metadata": {
        "id": "WYx6EbyLIW4r"
      }
    },
    {
      "cell_type": "markdown",
      "source": [
        "#####Create a Class Object   \n",
        "  \n"
      ],
      "metadata": {
        "id": "0JfqOWWbJRyq"
      }
    },
    {
      "cell_type": "code",
      "source": [
        "z = 'This is the latest argument'\n",
        "t4 = ExtendedChildThing(z)"
      ],
      "metadata": {
        "id": "7zkt4ItE2qIv"
      },
      "execution_count": 207,
      "outputs": []
    },
    {
      "cell_type": "markdown",
      "source": [
        "#####Explore the Created Object's Propeties  \n",
        "  "
      ],
      "metadata": {
        "id": "J2bAzl6nJqZZ"
      }
    },
    {
      "cell_type": "code",
      "source": [
        "t4.arg1                   # attribute of the object"
      ],
      "metadata": {
        "id": "CGUusbxa-3QF"
      },
      "execution_count": null,
      "outputs": []
    },
    {
      "cell_type": "code",
      "source": [
        "t4.doubled                # attribute of the object"
      ],
      "metadata": {
        "id": "iacESxyBGLi1"
      },
      "execution_count": null,
      "outputs": []
    },
    {
      "cell_type": "code",
      "source": [
        "t4.doubled_arg_length()   # method of the object"
      ],
      "metadata": {
        "id": "Lu34yov921l7"
      },
      "execution_count": null,
      "outputs": []
    },
    {
      "cell_type": "code",
      "source": [
        "dir(t4)                   # directory of the object's properties"
      ],
      "metadata": {
        "id": "x6lxcY-4Cyj3"
      },
      "execution_count": null,
      "outputs": []
    },
    {
      "cell_type": "markdown",
      "source": [
        "Note that the **Class** `ExtendedChildThing` does not include the following:  \n",
        "- an attribute `.twice`  \n",
        "- a method `.twice_arg_length()`  \n"
      ],
      "metadata": {
        "id": "xkFUg8F1Hw8J"
      }
    },
    {
      "cell_type": "markdown",
      "source": [
        "\n",
        "\n",
        "---\n",
        "\n"
      ],
      "metadata": {
        "id": "YquGtN_UGU01"
      }
    }
  ]
}