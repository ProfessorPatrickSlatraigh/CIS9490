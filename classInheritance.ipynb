{
  "nbformat": 4,
  "nbformat_minor": 0,
  "metadata": {
    "colab": {
      "provenance": [],
      "authorship_tag": "ABX9TyOrMvHWI2Lw8NM01PUGg0pO",
      "include_colab_link": true
    },
    "kernelspec": {
      "name": "python3",
      "display_name": "Python 3"
    },
    "language_info": {
      "name": "python"
    }
  },
  "cells": [
    {
      "cell_type": "markdown",
      "metadata": {
        "id": "view-in-github",
        "colab_type": "text"
      },
      "source": [
        "<a href=\"https://colab.research.google.com/github/ProfessorPatrickSlatraigh/CIS9490/blob/main/classInheritance.ipynb\" target=\"_parent\"><img src=\"https://colab.research.google.com/assets/colab-badge.svg\" alt=\"Open In Colab\"/></a>"
      ]
    },
    {
      "cell_type": "markdown",
      "source": [
        "#Class Definition and Inheritance  \n",
        "\n",
        "##<b>This Example Demonstrates:</b>  \n",
        "**<u>Base (Parent) Class</u>**   \n",
        "1. **Simple Class Definition** (Thing)       \n",
        "     *Includes one attribute and one method*\n",
        "2. **Class Definition - More Properties**  (AnotherThing)    \n",
        "     *Includes two attributes and two methods*\n",
        "    \n",
        "**<u>Child Class Properties</u>**  \n",
        "3. **Simple Ineritance**  (ChildThing)    \n",
        "     *Inherits one attribute and one method*  \n",
        "4. **Inheritance with Extended Properties**  (ExtendedChildThing)    \n",
        "     *Adds another attribute and another method*  \n",
        "  \n",
        "*by Professor Patrick on 15-Oct-2023, 16-Oct-2023*  \n"
      ],
      "metadata": {
        "id": "d9ni5XuN6H4s"
      }
    },
    {
      "cell_type": "markdown",
      "source": [
        "##Preface - Form and Function  \n",
        "  "
      ],
      "metadata": {
        "id": "sf4fg6gox1Bc"
      }
    },
    {
      "cell_type": "markdown",
      "source": [
        "Let's create an empty object `object1` from an empty class we will call `ThinAir`."
      ],
      "metadata": {
        "id": "yMCszlE21gyd"
      }
    },
    {
      "cell_type": "code",
      "source": [
        "class ThinAir():\n",
        "    pass          # `pass` does nothing - a placeholder line"
      ],
      "metadata": {
        "id": "sXG0HNJx0-QD"
      },
      "execution_count": null,
      "outputs": []
    },
    {
      "cell_type": "code",
      "source": [
        "object1 = ThinAir()"
      ],
      "metadata": {
        "id": "V8rpezMZ1J6p"
      },
      "execution_count": null,
      "outputs": []
    },
    {
      "cell_type": "markdown",
      "metadata": {
        "id": "ttY4LIpTjDsG"
      },
      "source": [
        "####Object Form: Attributes"
      ]
    },
    {
      "cell_type": "markdown",
      "source": [
        "<u>Object Instances Have Form</u>  \n",
        "\n",
        "The form consists of data elements contained within the instance.  We call these *attributes*.\n",
        "\n",
        "We can add new attributes (data elements) to an instance of an object using dot notation:"
      ],
      "metadata": {
        "id": "n7MYyOvbwNi4"
      }
    },
    {
      "cell_type": "code",
      "source": [
        "object1.a = 3\n",
        "object1.b = 4"
      ],
      "metadata": {
        "id": "To6ug6QvwPem"
      },
      "execution_count": null,
      "outputs": []
    },
    {
      "cell_type": "markdown",
      "metadata": {
        "id": "0PzPZPNokLbl"
      },
      "source": [
        "This syntax is similar to the syntax for selecting a variable or method from a module, such as **math.pi** or **string.uppercase()**. Both modules and instances of objects (variables) create their own namespaces, and the syntax for accessing names contained in each, called attributes, is the same. In this case the attribute we are selecting is a data item from an instance.  We use dot notation to reference these.\n",
        "\n",
        "\n",
        "We can read the value of an attribute using the dot notation syntax:\n"
      ]
    },
    {
      "cell_type": "code",
      "source": [
        "c = object1.a * object1.b\n",
        "\n",
        "print(\"The value of object1.a is: \", object1.a)\n",
        "print(\"The value of object1.b is: \", object1.b)\n",
        "\n",
        "print(\"\\nThe value of c is: \", c)"
      ],
      "metadata": {
        "id": "2WnYyUdtwbYQ"
      },
      "execution_count": null,
      "outputs": []
    },
    {
      "cell_type": "markdown",
      "metadata": {
        "id": "eOqKupv1lCNG"
      },
      "source": [
        "We can even test their type, which is consistent with the values that we assigned to them:"
      ]
    },
    {
      "cell_type": "code",
      "metadata": {
        "id": "D02rvuailIxU"
      },
      "source": [
        "print(\"The type of object1.a is: \", type(object1.a))\n",
        "print(\"The type of object1.a is: \", type(object1.b))"
      ],
      "execution_count": null,
      "outputs": []
    },
    {
      "cell_type": "markdown",
      "source": [
        "####Object Function: Methods  "
      ],
      "metadata": {
        "id": "Pb_NDwEoygeN"
      }
    },
    {
      "cell_type": "markdown",
      "source": [
        "<u>Object Instances Have Function</u>  \n",
        "\n",
        "The function consists of executable routines or functions contained within the instance.  We refer to these as *methods*.\n",
        "\n",
        "We can add new methods to an instance of an object using dot notation:"
      ],
      "metadata": {
        "id": "nD7oJGgRyWkp"
      }
    },
    {
      "cell_type": "markdown",
      "source": [
        "A method behaves like a function, but it is part of an object. Like a data attribute it is accessed using dot notation. The initialization method **`__init()__`** is called automatically when the class is called."
      ],
      "metadata": {
        "id": "VnmbnEyF9_GJ"
      }
    },
    {
      "cell_type": "markdown",
      "source": [
        "Consider the methods available in a Python string object.  \n",
        "Some examples:  \n",
        "\n",
        "- `.capitalize()`  \n",
        "- `.lower()`  \n",
        "- `.title()`  \n",
        "- `.upper()`    \n",
        "  \n"
      ],
      "metadata": {
        "id": "Z1s8GLd8y4Ln"
      }
    },
    {
      "cell_type": "code",
      "source": [
        "s = 'Hello World!'\n",
        "print(s.lower())"
      ],
      "metadata": {
        "id": "44xn3CBczGxd"
      },
      "execution_count": null,
      "outputs": []
    },
    {
      "cell_type": "code",
      "source": [
        "s"
      ],
      "metadata": {
        "id": "5G_s57CqH2-x"
      },
      "execution_count": null,
      "outputs": []
    },
    {
      "cell_type": "markdown",
      "source": [
        "####Object Directories  \n",
        "  \n",
        "We can use the `dir()` function to see a directory of the attributes and methods in an object.   \n"
      ],
      "metadata": {
        "id": "bDIlATeszTQ7"
      }
    },
    {
      "cell_type": "code",
      "source": [
        "dir(s)"
      ],
      "metadata": {
        "id": "zx9IFj1_zeTB"
      },
      "execution_count": null,
      "outputs": []
    },
    {
      "cell_type": "markdown",
      "source": [
        "The `dir()` function shows us that even though we thought we were creating the `object1` variable out of `ThinAir`, it was created with a number of default properties.  We then added or attributes: `a` and `b`.  "
      ],
      "metadata": {
        "id": "VQUuOqDj2FAQ"
      }
    },
    {
      "cell_type": "code",
      "source": [
        "dir(object1)"
      ],
      "metadata": {
        "id": "EWIOzqm61_0z"
      },
      "execution_count": null,
      "outputs": []
    },
    {
      "cell_type": "markdown",
      "source": [
        "\n",
        "\n",
        "---\n",
        "\n"
      ],
      "metadata": {
        "id": "fgafKXi1yV6b"
      }
    },
    {
      "cell_type": "markdown",
      "source": [
        "##A - Defining a Class  \n",
        "  \n",
        "<b><u>Specifying:</b></u>   \n",
        "- **attributes**  \n",
        "- **methods(functions)**  "
      ],
      "metadata": {
        "id": "a1bcKBIH0rZ1"
      }
    },
    {
      "cell_type": "markdown",
      "source": [
        "<b><u>PYTHON CLASS DEFINITION RULES</b></u>  \n"
      ],
      "metadata": {
        "id": "mIygSzeZ0kNl"
      }
    },
    {
      "cell_type": "markdown",
      "source": [
        "The class definition typically includes the following:  \n",
        "  \n",
        "|Component|Form|Use|  \n",
        "|---|---|---|  \n",
        "|Definition| `class` Name:| - defines `Name` as a class|\n",
        "|Constructor| def `__init__(self, ...)`| - defines one-time, initiation function|  \n",
        "|Constructor| (self, ...)| - starts with `self` then list of args|  \n",
        "|Attributes| self.attribute = `kwarg`| - sets attribute values |\n",
        "|Methods| def Method(self):| - sets methods|   \n",
        "|Local Vars| self.attribute| - use of attributes inside methods|  \n",
        "  \n",
        "    "
      ],
      "metadata": {
        "id": "aLTo_lH86j3O"
      }
    },
    {
      "cell_type": "markdown",
      "source": [
        "In addition a **Class** definition may include the following:  \n",
        "  \n",
        "|Component|Form|Use|  \n",
        "|---|---|---|  \n",
        "|Str| def `__str__(self)`| - method used to return an explanatory string about the Class of object|  \n",
        "  \n",
        "\n",
        "  "
      ],
      "metadata": {
        "id": "PRMb3iQ3o--G"
      }
    },
    {
      "cell_type": "markdown",
      "source": [
        "**Some Special Names**\n",
        "\n",
        "*Remember: These start/end with double-underscores (which are hard to show in Colab)*\n",
        "\n",
        "\n",
        "*   _ _ init _ _()  - Method which is executed at the beginning of any instantiation of a class (creation of an object in that class).  Used to establish assignments and actions before any other methods.  \n",
        "  \n",
        "*   _ _ str _ _()  - Method used to return a standard string of information about the object.  Should be presented in an easy-to-read format with a concise display of as much relevant information as is practical.  \n",
        "  \n",
        "*   _ _ main _ _  - The namespace of the top-level code environment.  Typically used to identify the highest level of the namespace hierarchy or the contol level of the code execution. When a Python module or package is imported, `__name__` is set to the module’s name. Usually, this is the name of the Python file itself without the .py extension but the top-level code environment is given the value `__main__` for `__name__`.     \n",
        "    "
      ],
      "metadata": {
        "id": "WzfAFvihqB_O"
      }
    },
    {
      "cell_type": "markdown",
      "source": [
        "*A class definition always needs itself (`self`) as an argument.*  \n",
        "*A class definition executes `__init__()` on launch.*  \n",
        "*The `__initi__()` method always needs at least one line of code.*  \n"
      ],
      "metadata": {
        "id": "h8DBBsDi81nq"
      }
    },
    {
      "cell_type": "markdown",
      "source": [
        "\n",
        "\n",
        "---\n",
        "\n"
      ],
      "metadata": {
        "id": "y5T-KAd72-0T"
      }
    },
    {
      "cell_type": "markdown",
      "source": [
        "####1. Simple Class Definition   \n",
        "  "
      ],
      "metadata": {
        "id": "jiMGY7zxIFKb"
      }
    },
    {
      "cell_type": "markdown",
      "source": [
        "The following **Class** definition of `Thing` includes:  \n",
        "- an attribute named `.arg1`  \n",
        "- a function named `.print_arg()`   \n",
        "  "
      ],
      "metadata": {
        "id": "9jeHKc67x5xM"
      }
    },
    {
      "cell_type": "code",
      "source": [
        "class Thing:\n",
        "    def __init__(self, argument):        # constructor\n",
        "        self.arg1 = argument             # sets attribute .arg1\n",
        "\n",
        "    def __str__(self):\n",
        "        return f'A Thing created with: `{self.arg1}`.'\n",
        "\n",
        "    def print_arg(self):                  # sets method .print_arg()\n",
        "        print(f\"Argument: `{self.arg1}`\")\n"
      ],
      "metadata": {
        "id": "geQ4aKUx0pbk"
      },
      "execution_count": null,
      "outputs": []
    },
    {
      "cell_type": "markdown",
      "source": [
        "**Classes Are Object Factories**\n",
        "\n",
        "*   It may be helpful to think of a Class as a factory for making objects, so our **Thing** Class is a factory for making Things. The Class itself isn’t an instance of a Thing, but it contains the machinery to make instances of Things.\n",
        "\n",
        "*   You might also think of a class as a kind of cookie-cutter which can create objects instead of cookies."
      ],
      "metadata": {
        "id": "-wQGe4vyuq1f"
      }
    },
    {
      "cell_type": "markdown",
      "source": [
        "####Working With a Class Object     \n",
        "  "
      ],
      "metadata": {
        "id": "H9fscl3pINRV"
      }
    },
    {
      "cell_type": "markdown",
      "source": [
        "#####Create a Class Object   \n",
        "  \n",
        "\n"
      ],
      "metadata": {
        "id": "6AhBiFpVI2xN"
      }
    },
    {
      "cell_type": "code",
      "source": [
        "w = 'This is in the argument' # storing a string value in a variable to use\n",
        "t1 = Thing(w)                 # using the Class to create an instance of an object"
      ],
      "metadata": {
        "id": "tarc7qVT40-h"
      },
      "execution_count": null,
      "outputs": []
    },
    {
      "cell_type": "code",
      "source": [
        "t1 = Thing('This is in the argument')  # another way to create the same object"
      ],
      "metadata": {
        "id": "g4DYlwvo4UbJ"
      },
      "execution_count": null,
      "outputs": []
    },
    {
      "cell_type": "markdown",
      "source": [
        "#####Explore the Created Object's Propeties  \n",
        "  "
      ],
      "metadata": {
        "id": "rS_DN6rAI62Z"
      }
    },
    {
      "cell_type": "markdown",
      "source": [
        "<u>An Attribute Created by the Class</u>"
      ],
      "metadata": {
        "id": "vUrxIVAh5UXN"
      }
    },
    {
      "cell_type": "code",
      "source": [
        "t1.arg1                    # attribute of the object"
      ],
      "metadata": {
        "id": "7MrFk6W75VaK"
      },
      "execution_count": null,
      "outputs": []
    },
    {
      "cell_type": "markdown",
      "source": [
        "<u>Methods Created by the Class</u>"
      ],
      "metadata": {
        "id": "XcNyTwtN5W4_"
      }
    },
    {
      "cell_type": "code",
      "source": [
        "t1.print_arg()             # method of the object"
      ],
      "metadata": {
        "id": "lzd0n6Oa5etf"
      },
      "execution_count": null,
      "outputs": []
    },
    {
      "cell_type": "code",
      "source": [
        "t1.__str__()               # method of the object"
      ],
      "metadata": {
        "id": "JxkGslM4qdd5"
      },
      "execution_count": null,
      "outputs": []
    },
    {
      "cell_type": "markdown",
      "source": [
        "<u>Built-in Python Functions</u>  "
      ],
      "metadata": {
        "id": "-rIBUXJQ5eIa"
      }
    },
    {
      "cell_type": "code",
      "source": [
        "type(t1)                  # query the object type or class"
      ],
      "metadata": {
        "id": "g9TgpYbI7eGs"
      },
      "execution_count": null,
      "outputs": []
    },
    {
      "cell_type": "code",
      "source": [
        "help(t1)                   # invoking help() with the object"
      ],
      "metadata": {
        "id": "rEcewXZ3rgg5"
      },
      "execution_count": null,
      "outputs": []
    },
    {
      "cell_type": "code",
      "source": [
        "dir(t1)                    # directory of the object's properties"
      ],
      "metadata": {
        "id": "T5ZtjuIuJcn5"
      },
      "execution_count": null,
      "outputs": []
    },
    {
      "cell_type": "markdown",
      "source": [
        "\n",
        "\n",
        "---\n",
        "\n"
      ],
      "metadata": {
        "id": "NTvIDjlKx04n"
      }
    },
    {
      "cell_type": "markdown",
      "source": [
        "####2. Class Definition - More Properties     \n",
        "  "
      ],
      "metadata": {
        "id": "jvtI-5x-IHhF"
      }
    },
    {
      "cell_type": "markdown",
      "source": [
        "The following **Class** definition of `AnotherThing` includes:  \n",
        "- an attribute named `.arg1`  \n",
        "- an attribute named `.twice` that is two times the argument\n",
        "- a function named `.print_arg()`   \n",
        "- a function named `.twice_arg_length()`\n",
        "   \n"
      ],
      "metadata": {
        "id": "xpYIiEWSyVjq"
      }
    },
    {
      "cell_type": "code",
      "source": [
        "class AnotherThing:\n",
        "    def __init__(self, argument):\n",
        "        self.arg1 = argument\n",
        "        self.twice = argument*2\n",
        "\n",
        "    def __str__(self):\n",
        "        return f'A Thing created with: `{self.arg1}`.'\n",
        "\n",
        "    def print_arg(self):\n",
        "        print(f\"Argument: `{self.arg1}`\")\n",
        "\n",
        "    def twice_arg_length(self):\n",
        "        print(f\"Twice the length of argument is {len(self.twice)}.\")\n"
      ],
      "metadata": {
        "id": "VSD3LInQw134"
      },
      "execution_count": null,
      "outputs": []
    },
    {
      "cell_type": "markdown",
      "source": [
        "####Working With a Class Object     \n",
        "  "
      ],
      "metadata": {
        "id": "2xH_76F2ITjp"
      }
    },
    {
      "cell_type": "markdown",
      "source": [
        "#####Create a Class Object   \n",
        "  \n"
      ],
      "metadata": {
        "id": "4JB627gFJImP"
      }
    },
    {
      "cell_type": "code",
      "source": [
        "x = 'This is another argument'     # storing a string value in a variable to use\n",
        "t2 = AnotherThing(x)               # using the Class to create an instance of an object"
      ],
      "metadata": {
        "id": "2Fh7K2vQw4Mi"
      },
      "execution_count": null,
      "outputs": []
    },
    {
      "cell_type": "markdown",
      "source": [
        "#####Explore the Created Object's Propeties  \n",
        "  "
      ],
      "metadata": {
        "id": "FyKYcT5dJY09"
      }
    },
    {
      "cell_type": "markdown",
      "source": [
        "<u>Attributes Created by the Class</u>"
      ],
      "metadata": {
        "id": "fPJwQxi25ITO"
      }
    },
    {
      "cell_type": "code",
      "source": [
        "t2.arg1                   # attribute of the object"
      ],
      "metadata": {
        "id": "_KlAQ0NvxE8h"
      },
      "execution_count": null,
      "outputs": []
    },
    {
      "cell_type": "code",
      "source": [
        "t2.twice                  # attribute of the object"
      ],
      "metadata": {
        "id": "9w085m7NwnIY"
      },
      "execution_count": null,
      "outputs": []
    },
    {
      "cell_type": "markdown",
      "source": [
        "<u>Methods Created by the Class</u>"
      ],
      "metadata": {
        "id": "WrqjlrbJ5PKr"
      }
    },
    {
      "cell_type": "code",
      "source": [
        "t2.print_arg()            # method of the object"
      ],
      "metadata": {
        "id": "oh18ypmcOp9R"
      },
      "execution_count": null,
      "outputs": []
    },
    {
      "cell_type": "code",
      "source": [
        "t2.twice_arg_length()     # method of the object"
      ],
      "metadata": {
        "id": "M4bFwPiLxVH_"
      },
      "execution_count": null,
      "outputs": []
    },
    {
      "cell_type": "code",
      "source": [
        "t2.__str__()              # method of the object"
      ],
      "metadata": {
        "id": "g9kV6tpDsEX1"
      },
      "execution_count": null,
      "outputs": []
    },
    {
      "cell_type": "markdown",
      "source": [
        "<u>Built-in Python Functions</u>  "
      ],
      "metadata": {
        "id": "cm3DR9W45ojq"
      }
    },
    {
      "cell_type": "code",
      "source": [
        "type(t2)                  # query the object type or class"
      ],
      "metadata": {
        "id": "a1_eK8th7b15"
      },
      "execution_count": null,
      "outputs": []
    },
    {
      "cell_type": "code",
      "source": [
        "help(t2)                  # invoking help() with the object"
      ],
      "metadata": {
        "id": "NyrOba6QsEX2"
      },
      "execution_count": null,
      "outputs": []
    },
    {
      "cell_type": "code",
      "source": [
        "dir(t2)                   # directory of the object's properties"
      ],
      "metadata": {
        "id": "vgnwqh7UJZ7S"
      },
      "execution_count": null,
      "outputs": []
    },
    {
      "cell_type": "markdown",
      "source": [
        "\n",
        "\n",
        "---\n",
        "\n"
      ],
      "metadata": {
        "id": "iOPWbIvqzOt4"
      }
    },
    {
      "cell_type": "markdown",
      "source": [
        "##B - Class Inheritance   \n"
      ],
      "metadata": {
        "id": "GnSCghpz09qF"
      }
    },
    {
      "cell_type": "markdown",
      "source": [
        "We do not need to repeat the common properties (attributes and methods) of the `Thing` class when creating `AnotherThing` class -- we can inherit them.  We show *inheritance* in the **Class** definition by passing the **base** (or parent) **Class** as an argument to the new **child**  **Class** definition.  \n",
        "\n"
      ],
      "metadata": {
        "id": "L32z_-AWzPvm"
      }
    },
    {
      "cell_type": "markdown",
      "source": [
        "###3. Simple Inheritance"
      ],
      "metadata": {
        "id": "mRKfuRZv1XNj"
      }
    },
    {
      "cell_type": "markdown",
      "source": [
        "####Class Definition   \n",
        "  "
      ],
      "metadata": {
        "id": "s74UowjOH7hT"
      }
    },
    {
      "cell_type": "code",
      "source": [
        "class ChildThing(Thing):\n",
        "    pass  # `pass` does nothing - a placeholder line\n"
      ],
      "metadata": {
        "id": "X6ms4KHKznpD"
      },
      "execution_count": null,
      "outputs": []
    },
    {
      "cell_type": "markdown",
      "source": [
        "####Working With a Class Object     \n",
        "  "
      ],
      "metadata": {
        "id": "NPNGjP46IVKD"
      }
    },
    {
      "cell_type": "markdown",
      "source": [
        "#####Create a Class Object   \n",
        "  \n"
      ],
      "metadata": {
        "id": "XkDTybGUJKfZ"
      }
    },
    {
      "cell_type": "code",
      "source": [
        "y = 'This is a third argument'     # storing a string value in a variable to use\n",
        "t3 = ChildThing(y)                 # using the Class to create an instance of an object"
      ],
      "metadata": {
        "id": "ocmDKN-C0GYU"
      },
      "execution_count": null,
      "outputs": []
    },
    {
      "cell_type": "markdown",
      "source": [
        "#####Explore the Created Object's Propeties  \n",
        "  "
      ],
      "metadata": {
        "id": "abipjYRmJgRh"
      }
    },
    {
      "cell_type": "markdown",
      "source": [
        "<u>An Attribute Inherited by the Class</u>"
      ],
      "metadata": {
        "id": "C9pCVPtG57qY"
      }
    },
    {
      "cell_type": "code",
      "source": [
        "t3.arg1                   # attribute of the object"
      ],
      "metadata": {
        "id": "OxZHXBgb0Odk"
      },
      "execution_count": null,
      "outputs": []
    },
    {
      "cell_type": "markdown",
      "source": [
        "<u>Methods Inherited by the Class</u>"
      ],
      "metadata": {
        "id": "osss6QjN5_A1"
      }
    },
    {
      "cell_type": "code",
      "source": [
        "t3.print_arg()            # method of the object"
      ],
      "metadata": {
        "id": "gw6ADVo10Q2f"
      },
      "execution_count": null,
      "outputs": []
    },
    {
      "cell_type": "code",
      "source": [
        "t3.__str__()              # method of the object"
      ],
      "metadata": {
        "id": "SkkiiNqQsLFd"
      },
      "execution_count": null,
      "outputs": []
    },
    {
      "cell_type": "markdown",
      "source": [
        "<u>Built-in Python Functions</u>  "
      ],
      "metadata": {
        "id": "M2PSP4al5qRa"
      }
    },
    {
      "cell_type": "code",
      "source": [
        "type(t3)                  # query the object type or class"
      ],
      "metadata": {
        "id": "3TVTyaDL7TNa"
      },
      "execution_count": null,
      "outputs": []
    },
    {
      "cell_type": "code",
      "source": [
        "help(t3)                  # invoking help() with the object"
      ],
      "metadata": {
        "id": "_my1Zs6QsLFe"
      },
      "execution_count": null,
      "outputs": []
    },
    {
      "cell_type": "code",
      "source": [
        "dir(t3)                   # directory of the object's properties"
      ],
      "metadata": {
        "id": "NOkcQfp_Fi5E"
      },
      "execution_count": null,
      "outputs": []
    },
    {
      "cell_type": "markdown",
      "source": [
        "<u>Erroneous Properties</u>  "
      ],
      "metadata": {
        "id": "RvOgn02c5tEd"
      }
    },
    {
      "cell_type": "markdown",
      "source": [
        "Note that the **Class** `ChildThing` does not include the following:  \n",
        "- an attribute `.twice`  \n",
        "- a method `.twice_arg_length()`  \n"
      ],
      "metadata": {
        "id": "r9OhkcAcHC1W"
      }
    },
    {
      "cell_type": "code",
      "source": [
        "t3.twice                 # error: no such object attribute"
      ],
      "metadata": {
        "id": "VJrG3LnLOzm3"
      },
      "execution_count": null,
      "outputs": []
    },
    {
      "cell_type": "code",
      "source": [
        "t3.twice_arg_length()    # error: no such object method"
      ],
      "metadata": {
        "id": "Gk9aQeK-O-Ha"
      },
      "execution_count": null,
      "outputs": []
    },
    {
      "cell_type": "markdown",
      "source": [
        "\n",
        "\n",
        "---\n",
        "\n"
      ],
      "metadata": {
        "id": "v-JlvnngFhmG"
      }
    },
    {
      "cell_type": "markdown",
      "source": [
        "###4. Inheritance with Extended Properties  \n"
      ],
      "metadata": {
        "id": "e-f3v9I_1dAn"
      }
    },
    {
      "cell_type": "markdown",
      "source": [
        "####Class Definition   \n",
        "  "
      ],
      "metadata": {
        "id": "w1oQLwH_H_Nj"
      }
    },
    {
      "cell_type": "code",
      "source": [
        "class ExtendedChildThing(Thing):\n",
        "    def __init__(self, argument):\n",
        "        super().__init__(argument)       # use of `super()` inherits properties\n",
        "        self.doubled = argument *2       # extending attribute\n",
        "\n",
        "    def doubled_arg_length(self):    # extending method\n",
        "        print(f\"Length of doubled-argument is {len(self.doubled)}.\")\n"
      ],
      "metadata": {
        "id": "EdB61pt91ibP"
      },
      "execution_count": null,
      "outputs": []
    },
    {
      "cell_type": "markdown",
      "source": [
        "####Working With a Class Object     \n",
        "  "
      ],
      "metadata": {
        "id": "WYx6EbyLIW4r"
      }
    },
    {
      "cell_type": "markdown",
      "source": [
        "#####Create a Class Object   \n",
        "  \n"
      ],
      "metadata": {
        "id": "0JfqOWWbJRyq"
      }
    },
    {
      "cell_type": "code",
      "source": [
        "z = 'This is the latest argument'    # storing a string value in a variable to use\n",
        "t4 = ExtendedChildThing(z)           # using the Class to create an instance of an object"
      ],
      "metadata": {
        "id": "7zkt4ItE2qIv"
      },
      "execution_count": null,
      "outputs": []
    },
    {
      "cell_type": "markdown",
      "source": [
        "#####Explore the Created Object's Propeties  \n",
        "  "
      ],
      "metadata": {
        "id": "J2bAzl6nJqZZ"
      }
    },
    {
      "cell_type": "markdown",
      "source": [
        "<u>An Attribute Inherited by the Class</u>"
      ],
      "metadata": {
        "id": "m1pcTuA_6K9L"
      }
    },
    {
      "cell_type": "code",
      "source": [
        "t4.arg1                   # attribute of the object"
      ],
      "metadata": {
        "id": "CGUusbxa-3QF"
      },
      "execution_count": null,
      "outputs": []
    },
    {
      "cell_type": "markdown",
      "source": [
        "<u>An Attribute Created by the Class</u>"
      ],
      "metadata": {
        "id": "igCx1Mc06RdN"
      }
    },
    {
      "cell_type": "code",
      "source": [
        "t4.doubled                # attribute of the object"
      ],
      "metadata": {
        "id": "iacESxyBGLi1"
      },
      "execution_count": null,
      "outputs": []
    },
    {
      "cell_type": "markdown",
      "source": [
        "<u>Methods Inherited by the Class</u>"
      ],
      "metadata": {
        "id": "yvbbXc_K6Uip"
      }
    },
    {
      "cell_type": "code",
      "source": [
        "t4.print_arg()            # method of the object"
      ],
      "metadata": {
        "id": "feQiTDfVOHx1"
      },
      "execution_count": null,
      "outputs": []
    },
    {
      "cell_type": "code",
      "source": [
        "t4.__str__()              # method of the object"
      ],
      "metadata": {
        "id": "PFonaBwRsQZx"
      },
      "execution_count": null,
      "outputs": []
    },
    {
      "cell_type": "markdown",
      "source": [
        "<u>A Method Created by the Class</u>"
      ],
      "metadata": {
        "id": "_K9CvFdd6Z-G"
      }
    },
    {
      "cell_type": "code",
      "source": [
        "t4.doubled_arg_length()   # method of the object"
      ],
      "metadata": {
        "id": "Lu34yov921l7"
      },
      "execution_count": null,
      "outputs": []
    },
    {
      "cell_type": "markdown",
      "source": [
        "<u>Built-in Python Functions</u>  "
      ],
      "metadata": {
        "id": "s1lzG1vI5zvV"
      }
    },
    {
      "cell_type": "code",
      "source": [
        "type(t4)                  # query the object type or class"
      ],
      "metadata": {
        "id": "5p19EeXS7Y59"
      },
      "execution_count": null,
      "outputs": []
    },
    {
      "cell_type": "code",
      "source": [
        "help(t4)                  # invoking help() with the object"
      ],
      "metadata": {
        "id": "MRp3Elm-sQZy"
      },
      "execution_count": null,
      "outputs": []
    },
    {
      "cell_type": "code",
      "source": [
        "dir(t4)                   # directory of the object's properties"
      ],
      "metadata": {
        "id": "x6lxcY-4Cyj3"
      },
      "execution_count": null,
      "outputs": []
    },
    {
      "cell_type": "markdown",
      "source": [
        "<u>Erroneous Properties</u>  "
      ],
      "metadata": {
        "id": "2jGTczBO6r0O"
      }
    },
    {
      "cell_type": "markdown",
      "source": [
        "Note that the **Class** `ExtendedChildThing` **DOES NOT** include the following:  \n",
        "- an attribute `.twice`  \n",
        "- a method `.twice_arg_length()`  \n"
      ],
      "metadata": {
        "id": "xkFUg8F1Hw8J"
      }
    },
    {
      "cell_type": "code",
      "source": [
        "t4.twice                 # error: no such object attribute"
      ],
      "metadata": {
        "id": "Ur7VBwDXOE0P"
      },
      "execution_count": null,
      "outputs": []
    },
    {
      "cell_type": "code",
      "source": [
        "t4.twice_arg_length()    # error: no such object method"
      ],
      "metadata": {
        "id": "Wv76Y2htPrgf"
      },
      "execution_count": null,
      "outputs": []
    },
    {
      "cell_type": "markdown",
      "source": [
        "\n",
        "\n",
        "---\n",
        "\n"
      ],
      "metadata": {
        "id": "YquGtN_UGU01"
      }
    },
    {
      "cell_type": "markdown",
      "source": [
        "##APPENDIX: A Little Fun   \n",
        "  "
      ],
      "metadata": {
        "id": "iZckTPSCTJYL"
      }
    },
    {
      "cell_type": "markdown",
      "source": [
        "###Playing with the `ExtendedChildThing` **Class**    "
      ],
      "metadata": {
        "id": "PM6dPRM4-pn_"
      }
    },
    {
      "cell_type": "code",
      "source": [
        "bridges = ['Verazzano', 'Brooklyn', 'Manhattan', 'Ed Koch', 'RFK', 'Third Av',\n",
        "           'Whitestone', 'Throgs Neck', 'George Washington', 'Goethals', 'Outer']"
      ],
      "metadata": {
        "id": "17G6ub4OTasw"
      },
      "execution_count": null,
      "outputs": []
    },
    {
      "cell_type": "code",
      "source": [
        "bridges_extended = []\n",
        "for bridge in bridges:\n",
        "    bridges_extended.append(ExtendedChildThing(bridge))"
      ],
      "metadata": {
        "id": "6oH3x8JBTtTW"
      },
      "execution_count": null,
      "outputs": []
    },
    {
      "cell_type": "code",
      "source": [
        "for each in bridges_extended:\n",
        "    each.print_arg()\n",
        "    print(each.doubled, '\\n')"
      ],
      "metadata": {
        "id": "k1huJ8P3T2Bg"
      },
      "execution_count": null,
      "outputs": []
    },
    {
      "cell_type": "markdown",
      "source": [
        "\n",
        "\n",
        "---\n",
        "\n"
      ],
      "metadata": {
        "id": "6sEGPgoA-81G"
      }
    },
    {
      "cell_type": "markdown",
      "source": [
        "###Playing With a Simple Class Definition   "
      ],
      "metadata": {
        "id": "ST7zaJZg-tvG"
      }
    },
    {
      "cell_type": "markdown",
      "metadata": {
        "id": "0hs5x8sh8Tkc"
      },
      "source": [
        "**What will the following class do?**\n",
        "\n",
        "\n",
        "\n",
        "```\n",
        "class TalkTo():\n",
        "    def __init__(self, n=\"Yourself\"):\n",
        "        self.name = n\n",
        "        self.who = “my friend”\n",
        "    def hello(self):\n",
        "        print(f\"Hello {self.name}!\")\n",
        "    def bye(self):\n",
        "        print(f\"Goobye {self.name}!\")\n",
        "    def meet(self):\n",
        "        print(f\"{self.name} meet {self.who}.\")\n",
        "```\n",
        "\n",
        "*Try it...*"
      ]
    },
    {
      "cell_type": "code",
      "metadata": {
        "id": "mEMy79XX8liO"
      },
      "source": [
        "class TalkTo():\n",
        "    def __init__(self, n=\"Yourself\"):\n",
        "        self.name = n\n",
        "        self.who = \"my friend\"\n",
        "    def hello(self):\n",
        "        print(f\"Hello {self.name}!\")\n",
        "    def bye(self):\n",
        "        print(f\"Goodbye {self.name}!\")\n",
        "    def meet(self):\n",
        "        print(f\"{self.name} meet {self.who}.\")"
      ],
      "execution_count": null,
      "outputs": []
    },
    {
      "cell_type": "code",
      "metadata": {
        "id": "_eLKXXw2vJC7"
      },
      "source": [
        "dir(TalkTo)"
      ],
      "execution_count": null,
      "outputs": []
    },
    {
      "cell_type": "markdown",
      "metadata": {
        "id": "FB6-pX668oEw"
      },
      "source": [
        "Now use the Class TalkTo which you defined."
      ]
    },
    {
      "cell_type": "code",
      "metadata": {
        "id": "Gmkri0x28tQ4"
      },
      "source": [
        "# your code here\n"
      ],
      "execution_count": null,
      "outputs": []
    },
    {
      "cell_type": "code",
      "metadata": {
        "id": "VbrwAoMf86ns"
      },
      "source": [
        "# try these...\n",
        "say = TalkTo(\"Bob the Builder\")\n",
        "print(\"The value of say.name is: \", say.name)\n",
        "say.hello()\n",
        "say.bye()\n",
        "say.meet()"
      ],
      "execution_count": null,
      "outputs": []
    },
    {
      "cell_type": "markdown",
      "source": [
        "\n",
        "\n",
        "---\n",
        "\n"
      ],
      "metadata": {
        "id": "cgLkG9I6Umfb"
      }
    }
  ]
}