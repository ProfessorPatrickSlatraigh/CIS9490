{
  "nbformat": 4,
  "nbformat_minor": 0,
  "metadata": {
    "colab": {
      "provenance": [],
      "include_colab_link": true
    },
    "kernelspec": {
      "name": "python3",
      "display_name": "Python 3"
    },
    "language_info": {
      "name": "python"
    }
  },
  "cells": [
    {
      "cell_type": "markdown",
      "metadata": {
        "id": "view-in-github",
        "colab_type": "text"
      },
      "source": [
        "<a href=\"https://colab.research.google.com/github/ProfessorPatrickSlatraigh/CIS9490/blob/main/classes_OOP_bankAccount.ipynb\" target=\"_parent\"><img src=\"https://colab.research.google.com/assets/colab-badge.svg\" alt=\"Open In Colab\"/></a>"
      ]
    },
    {
      "cell_type": "markdown",
      "metadata": {
        "id": "wrw1h0fY8vB6"
      },
      "source": [
        "# **An Object-Oriented Bank Account**"
      ]
    },
    {
      "cell_type": "markdown",
      "metadata": {
        "id": "hbNTDEf49E9k"
      },
      "source": [
        "**What comes to mind when you think about how a bank account works?**"
      ]
    },
    {
      "cell_type": "markdown",
      "metadata": {
        "id": "qEIrhBYl9SEY"
      },
      "source": [
        "Some of the things which come to mind when thinking about a bank account...\n",
        "  \n",
        "**Attributes**\n",
        "*   Owner Name  \n",
        "*   Balance  \n",
        "  \n",
        "**Actions (Methods)**  \n",
        "*   Depositing  \n",
        "*   Withdrawing  \n",
        "  \n",
        "**Rules**\n",
        "*   Only can withdraw amount up to the balance or NSF (Not Sufficient Funds)  \n",
        "  "
      ]
    },
    {
      "cell_type": "markdown",
      "metadata": {
        "id": "22S_vanB9oVd"
      },
      "source": [
        "**Let's build a practical Class -- a bank account.**\n",
        "\n",
        "\n",
        "Create a bank account class named Account that has two attributes:\n",
        "*   owner (a string with the owner’s name which defaults to “No Name”)\n",
        "*   balance (a dollar value which defaults to zero)\n",
        "\n",
        "and two basic methods:\n",
        "*   deposit()\n",
        "*   withdraw()\n",
        "\n",
        "with a rule:\n",
        "\n",
        "*withdrawals may not exceed the available balance and “NSF” Not Sufficient Funds” is returned if there is an attempt to overdraw the account\n",
        "and an extra method named withdrawal() which simply calls withdraw()*\n",
        "\n",
        "\n",
        "Then we can instantiate an object named account1 of the Account class, make deposits and withdrawals, and test to make sure the account cannot be overdrawn\n",
        "\n"
      ]
    },
    {
      "cell_type": "markdown",
      "metadata": {
        "id": "5b7JAxRy-Pg5"
      },
      "source": [
        "**How would you go about solving this?**\n",
        "\n",
        "*What approach (algorithm) can we use to develop our bank account object?*\n",
        "\n",
        "\n",
        "1.   Create a shell of the class first?\n",
        "2.   Enhance the shell of the class to include the attributes?\n",
        "3.   Add more enhancements for each method, one at a time, and test?\n",
        "4.   Save the most complex method (NSF) for last?\n"
      ]
    },
    {
      "cell_type": "markdown",
      "metadata": {
        "id": "guw56cJR-i81"
      },
      "source": [
        "Step1 - Create a simple shell of the Class\n",
        "\n",
        "Step2 - Add attributes\n",
        "\n",
        "\n",
        "```\n",
        "class Account:\n",
        "    def __init__(self,owner=\"No Name\",balance=0):\n",
        "        self.owner = owner\n",
        "        self.balance = balance\n",
        "    def __str__(self):\n",
        "        return f'Account owner:   {self.owner}\\nAccount balance: ${self.balance}'\n",
        "\n",
        "```\n",
        "\n"
      ]
    },
    {
      "cell_type": "code",
      "metadata": {
        "id": "nHxxEpAx-65Z"
      },
      "source": [
        "class Account:\n",
        "    def __init__(self,a=\"No Name\",b=0):\n",
        "        self.owner = a\n",
        "        self.balance = b\n",
        "    def __str__(self):\n",
        "        return f'Account owner:   {self.owner}\\nAccount balance: ${self.balance}'\n"
      ],
      "execution_count": null,
      "outputs": []
    },
    {
      "cell_type": "markdown",
      "metadata": {
        "id": "g3chV5---923"
      },
      "source": [
        "*Let's do some rapid proto-typing and test our simple class Account so far...*"
      ]
    },
    {
      "cell_type": "code",
      "metadata": {
        "id": "FgZHWbKv_G1g"
      },
      "source": [
        "account1 = Account(\"Steve Wozniak\", 1000.00)\n",
        "print(account1.owner)\n",
        "# Your Name\n",
        "\n",
        "print(account1.balance)\n",
        "# 1000.0\n",
        "\n",
        "print()\n",
        "\n",
        "print(account1.__str__())\n",
        "# Account owner:   Your Name\n",
        "# Account balance: $1000.0\n",
        "\n",
        "print()\n",
        "\n",
        "print(account1)\n",
        "# Account owner:   Your Name\n",
        "# Account balance: $1000.0\n"
      ],
      "execution_count": null,
      "outputs": []
    },
    {
      "cell_type": "markdown",
      "metadata": {
        "id": "o0egCuy-_T5E"
      },
      "source": [
        "*It seems to work. Now we can add more complexity (Step3 and Step4)...*"
      ]
    },
    {
      "cell_type": "code",
      "metadata": {
        "id": "PqPze2SL_orN"
      },
      "source": [
        "class Account:\n",
        "    def __init__(self,owner=\"No Name\",balance=0):\n",
        "        self.owner = owner\n",
        "        self.balance = balance\n",
        "    def __str__(self):\n",
        "        return f'Account owner:   {self.owner}\\nAccount balance: ${self.balance}'\n",
        "    def deposit(self,deposit_amount=0):\n",
        "        self.balance += deposit_amount\n",
        "        print(f'Deposit of ${deposit_amount} to {self.owner} account processed')\n",
        "    def withdraw(self,withdrawal_amount=0):\n",
        "        if self.balance >= withdrawal_amount:\n",
        "            self.balance -= withdrawal_amount\n",
        "            print(f'Withdrawal of ${withdrawal_amount} from {self.owner} account processed')\n",
        "        else:\n",
        "            print(f'*NSF* Not Sufficient Funds in {self.owner} account!')\n",
        "    def take(self,withdrawal_amount):\n",
        "        self.withdraw(withdrawal_amount)\n"
      ],
      "execution_count": null,
      "outputs": []
    },
    {
      "cell_type": "markdown",
      "metadata": {
        "id": "j8_z6uYA_vRc"
      },
      "source": [
        "*Let's test what we have added...*"
      ]
    },
    {
      "cell_type": "code",
      "metadata": {
        "id": "NHb11ImQ_xyD"
      },
      "source": [
        "# Try the following\n",
        "\n",
        "account1=Account(\"Steve Wozniak\", 100)\n",
        "print(\"The balance for account1 is: \", account1.balance)\n",
        "\n",
        "print(\"The owner of account1 is: \", account1.owner)\n",
        "print(\"The balance for account1 is: \", account1.balance)\n",
        "\n",
        "print()\n",
        "\n",
        "# withdraw some money\n",
        "account1.withdraw(12)\n",
        "\n",
        "# deposit some money\n",
        "account1.deposit(23)\n",
        "\n",
        "# look at the balance\n",
        "print(\"The balance for account1 is: \", account1.balance)\n",
        "\n",
        "print()\n",
        "\n",
        "# withdraw more money\n",
        "account1.take(23)\n",
        "\n",
        "# look at the balance\n",
        "print(\"The balance for account1 is: \", account1.balance)\n",
        "\n",
        "print()\n",
        "\n",
        "# withdraw too much money!\n",
        "account1.withdraw(150)\n",
        "\n",
        "\n",
        "## Instantiate another object in the Account class\n",
        "## and use Account methods and attributes on the new object"
      ],
      "execution_count": null,
      "outputs": []
    },
    {
      "cell_type": "markdown",
      "metadata": {
        "id": "bAmg-F3kAmdI"
      },
      "source": [
        "**Congratulations!**\n",
        "\n",
        "You are on your way to owning a bank and having millions of customers!"
      ]
    },
    {
      "cell_type": "markdown",
      "metadata": {
        "id": "cgTkE_0XmdF-"
      },
      "source": [
        "\n",
        "\n",
        "---\n",
        "\n"
      ]
    },
    {
      "cell_type": "markdown",
      "metadata": {
        "id": "G7SW9EK1sOp8"
      },
      "source": [
        "## **Glossary**\n",
        "\n",
        "\n",
        "*   **attribute** - One of the named data items that makes up an instance.\n",
        "\n",
        "*   **class** - A user-defined compound type. A class can also be thought of as a template for the objects that are instances of it.\n",
        "\n",
        "*   **instantiate** - To create an instance of a class.\n",
        "\n",
        "*   **instance** - An object that belongs to a class.\n",
        "\n",
        "*   **object** - Compound data type that is often used to model a thing or concept in the real world.\n"
      ]
    },
    {
      "cell_type": "markdown",
      "metadata": {
        "id": "Y-Nv9EJZsp0a"
      },
      "source": [
        "\n",
        "\n",
        "---\n",
        "\n"
      ]
    }
  ]
}