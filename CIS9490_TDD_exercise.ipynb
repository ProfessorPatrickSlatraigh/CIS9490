{
  "nbformat": 4,
  "nbformat_minor": 0,
  "metadata": {
    "colab": {
      "provenance": [],
      "authorship_tag": "ABX9TyNrxICiIkAG5vm47JlEH1t2",
      "include_colab_link": true
    },
    "kernelspec": {
      "name": "python3",
      "display_name": "Python 3"
    },
    "language_info": {
      "name": "python"
    }
  },
  "cells": [
    {
      "cell_type": "markdown",
      "metadata": {
        "id": "view-in-github",
        "colab_type": "text"
      },
      "source": [
        "<a href=\"https://colab.research.google.com/github/ProfessorPatrickSlatraigh/CIS9490/blob/main/CIS9490_TDD_exercise.ipynb\" target=\"_parent\"><img src=\"https://colab.research.google.com/assets/colab-badge.svg\" alt=\"Open In Colab\"/></a>"
      ]
    },
    {
      "cell_type": "markdown",
      "source": [
        "# **CIS9490 - Systems Analysis and Design**\n",
        "  \n",
        "**Week #14**    \n",
        "**Class #14**  \n",
        "**AMDD (Agile Model-Driven Development) - TDD (Test-Driven Development)**    \n",
        "  \n",
        "\n",
        "*created by Professor Patrick: 02-Dec-2023*  \n",
        "*link to this notebook: bit.ly/cis9490wk14cl14*   \n"
      ],
      "metadata": {
        "id": "TN1o30RTB-zQ"
      }
    },
    {
      "cell_type": "markdown",
      "source": [
        "##Learning Objectives  \n",
        "\n",
        "1. Understand the fundamentals of Test-Driven Development (TDD)\n",
        "2. Learn an approach to TDD  \n",
        "3. Recognize the alignment of TDD with AMDD     \n",
        "4. Consider practical concerns of TDD\n",
        "5. Apply a TDD approach in practice   \n"
      ],
      "metadata": {
        "id": "Slvsg42FC3C9"
      }
    },
    {
      "cell_type": "markdown",
      "source": [
        "##1. Fundamentals of Test-Driven Development (TDD)  "
      ],
      "metadata": {
        "id": "AomhbljCD-Uh"
      }
    },
    {
      "cell_type": "markdown",
      "source": [
        "- TDD: A software development approach where tests are written before the code.  \n",
        "- Integral part of Agile methodologies, including Agile Model-Driven Development (AMDD)  "
      ],
      "metadata": {
        "id": "3rEER12NHDvp"
      }
    },
    {
      "cell_type": "markdown",
      "source": [
        "- Tests should be simple, clear, and focused on one functionality.  \n",
        "- Use descriptive names for tests to indicate their purpose.  "
      ],
      "metadata": {
        "id": "XZUxwn3dG2c3"
      }
    },
    {
      "cell_type": "markdown",
      "source": [
        "- Test-First Principle: Write a failing test before writing the production code.  \n",
        "- Ensures development focuses on meeting specific requirements.  "
      ],
      "metadata": {
        "id": "8GKQ3SleHEqt"
      }
    },
    {
      "cell_type": "markdown",
      "source": [
        "##2. Approach: TDD Process Overview  \n",
        "\n",
        ""
      ],
      "metadata": {
        "id": "u0lt4bZTEhAQ"
      }
    },
    {
      "cell_type": "markdown",
      "source": [
        "1. Write a test for a new function or feature  \n",
        "2. Run the test to <b><font color='red'>ensure it fails (Red phase)</font></b>  \n",
        "3. Implement the minimum code necessary to <b><font color='green'>pass the test (Green phase)</font></b>  \n",
        "4. Refactor the code for optimization and clarity <b><font color='blue'>(Refactor phase)</font></b>    "
      ],
      "metadata": {
        "id": "PZ7S7xkDG-MS"
      }
    },
    {
      "cell_type": "markdown",
      "source": [
        "<b><u>Refactoring in TDD</b></u>  \n",
        "  \n",
        "- Continuous improvement of the code without altering functionality.  \n",
        "- Enhances code readability, reduces complexity, and improves maintainability.  "
      ],
      "metadata": {
        "id": "G-fpgYPoHRSP"
      }
    },
    {
      "cell_type": "markdown",
      "source": [
        "##3. Benefits of TDD in an Agile Environment  \n",
        "  \n",
        "\n"
      ],
      "metadata": {
        "id": "CW2eTYuNEp9i"
      }
    },
    {
      "cell_type": "markdown",
      "source": [
        "- Ensures clarity of requirements before coding.  \n",
        "- Leads to higher quality code with fewer bugs.  \n",
        "- Facilitates continuous integration and frequent iteration.  "
      ],
      "metadata": {
        "id": "nSnJEKuCIoyP"
      }
    },
    {
      "cell_type": "markdown",
      "source": [
        "##4. Practical Considerations of Using TDD  \n",
        "  "
      ],
      "metadata": {
        "id": "hYwRO4ylItsU"
      }
    },
    {
      "cell_type": "markdown",
      "source": [
        "###4.1 TDD Challenges  \n",
        "  "
      ],
      "metadata": {
        "id": "4SuPSTYjIzGa"
      }
    },
    {
      "cell_type": "markdown",
      "source": [
        "- Requires a mindset shift towards test-first development.  \n",
        "- Initial learning curve and potential increase in upfront development time.  "
      ],
      "metadata": {
        "id": "f_1NDv3kKZYY"
      }
    },
    {
      "cell_type": "markdown",
      "source": [
        "###4.2 TDD Tools and Frameworks  \n",
        "  "
      ],
      "metadata": {
        "id": "stRyDi2rI-Up"
      }
    },
    {
      "cell_type": "markdown",
      "source": [
        "- Popular TDD tools   \n",
        "  - [JUnit for Java](https://junit.org/junit5/)  \n",
        "  - [NUnit for .NET](https://nunit.org/)  \n",
        "  - [unittest](https://docs.python.org/3/library/unittest.html) Python library   \n",
        "- Continuous integration tools in supporting TDD  \n",
        "  -  e.g., [Jenkins](https://www.jenkins.io/doc/developer/testing/)  \n",
        "    "
      ],
      "metadata": {
        "id": "98FjF1s-JE3-"
      }
    },
    {
      "cell_type": "markdown",
      "source": [
        "###4.3 TDD Best Practices  \n",
        "  "
      ],
      "metadata": {
        "id": "uPQJ2BxKKVrJ"
      }
    },
    {
      "cell_type": "markdown",
      "source": [
        "- Write tests for all new features and bug fixes.  \n",
        "- Keep tests independent and ensure they run quickly.  \n",
        "- Regularly review and refactor tests as code evolves.  "
      ],
      "metadata": {
        "id": "ZeyZeBmTKnSZ"
      }
    },
    {
      "cell_type": "markdown",
      "source": [
        "##5. <u>Exercise: TDD in Practice</u>  "
      ],
      "metadata": {
        "id": "N0MqhCk9Holh"
      }
    },
    {
      "cell_type": "markdown",
      "source": [
        "<i>Objective:   \n",
        "Apply Test-Driven Development (TDD) to create a simple bank ATM application using Python.</i>  \n",
        "  \n",
        "Overview of exercise stages:   \n",
        "1. Writing tests  \n",
        "2. Implementing minimal code  \n",
        "3. Refactoring  "
      ],
      "metadata": {
        "id": "1H3dD6y6LgP-"
      }
    },
    {
      "cell_type": "markdown",
      "source": [
        "###5.1 Overview of Simple ATM Application  \n",
        "  "
      ],
      "metadata": {
        "id": "oK28mgk4LzUu"
      }
    },
    {
      "cell_type": "markdown",
      "source": [
        "ATM functionalities:  \n",
        "- Check account balance  \n",
        "- Cash withdrawal    \n",
        "- Cash deposit  \n",
        "  \n",
        "Each group will implement one of these features using Python and TDD.  \n",
        "  "
      ],
      "metadata": {
        "id": "3jYx3Dk7L90m"
      }
    },
    {
      "cell_type": "markdown",
      "source": [
        "###5.2 Setting Up the Python Development Environment  \n",
        "\n",
        "\n",
        "> Indented block\n",
        "\n"
      ],
      "metadata": {
        "id": "DKCEv_0EMYu7"
      }
    },
    {
      "cell_type": "markdown",
      "source": [
        "Required tools:   \n",
        "- Python environment (e.g., PyCharm, Jupyter Notebook)  \n",
        "- A unit testing framework like `unittest`  \n",
        "- Create a new Python project for the ATM application  "
      ],
      "metadata": {
        "id": "fDE5LdeXMfI-"
      }
    },
    {
      "cell_type": "markdown",
      "source": [
        "####Housekeeping  "
      ],
      "metadata": {
        "id": "HRkDUl7uNoUK"
      }
    },
    {
      "cell_type": "markdown",
      "source": [
        "*Importing the `unittest` library for testing.*  \n",
        "  "
      ],
      "metadata": {
        "id": "EAVMnbwPVRLf"
      }
    },
    {
      "cell_type": "code",
      "source": [
        "# using the unittest libary for test cases\n",
        "import unittest"
      ],
      "metadata": {
        "id": "TP8iP4udNLS0"
      },
      "execution_count": 1,
      "outputs": []
    },
    {
      "cell_type": "markdown",
      "source": [
        "*Read a copy of Professor Patrick's `atm_library` package into your current working directory.*  \n",
        "  \n",
        "*For Colab users, the `atm_library` package will be in the `/contents/ directory.*  \n",
        "  "
      ],
      "metadata": {
        "id": "FhQmT_5lUDFo"
      }
    },
    {
      "cell_type": "code",
      "source": [
        "# cloning Professor Patrick's atm_library repo to your session\n",
        "!git clone https://github.com/ProfessorPatrickSlatraigh/atm_library.git"
      ],
      "metadata": {
        "id": "Sg8cX_cKNsNb"
      },
      "execution_count": null,
      "outputs": []
    },
    {
      "cell_type": "markdown",
      "source": [
        "*Changing the default directory to the `atm_library` folder.*  \n",
        "  "
      ],
      "metadata": {
        "id": "WtFmC501U4Wi"
      }
    },
    {
      "cell_type": "code",
      "source": [
        "# Navigating into the cloned directory (if required)\n",
        "import os\n",
        "os.chdir('atm_library')"
      ],
      "metadata": {
        "id": "A-fCxagjU_lT"
      },
      "execution_count": 5,
      "outputs": []
    },
    {
      "cell_type": "markdown",
      "source": [
        "*Importing objects from the cloned `atm_library` package in the `/contents/atm_library/` folder.*"
      ],
      "metadata": {
        "id": "nLBPrd2BUige"
      }
    },
    {
      "cell_type": "code",
      "source": [
        "# Importing modules from the `atm_library` folder\n",
        "from atm import ATM\n",
        "from account import Account\n",
        "from banksystem import BankSystem"
      ],
      "metadata": {
        "id": "QueDCe5yUpza"
      },
      "execution_count": 6,
      "outputs": []
    },
    {
      "cell_type": "markdown",
      "source": [
        "Let's try using the new classes that we have imported...  \n",
        "  "
      ],
      "metadata": {
        "id": "pT0PrFSPVYp4"
      }
    },
    {
      "cell_type": "markdown",
      "source": [
        "Creating `bank_system` as an instance of <b>BankSystem</b> and creating `account1` as an instance of <b>Account</b>.  \n",
        "Then adding `account1` to the `bank_system`...   "
      ],
      "metadata": {
        "id": "w__R98F4Y2h_"
      }
    },
    {
      "cell_type": "code",
      "source": [
        "# Example Usage\n",
        "# Creating a BankSystem instance\n",
        "bank_system = BankSystem()\n",
        "\n",
        "# Creating an account and adding it to the bank system\n",
        "account1 = Account(\"123456\", 1000)  # Account number and initial balance\n",
        "bank_system.add_account(account1, pin=\"1234\")  # Adding account with a PIN\n"
      ],
      "metadata": {
        "id": "-sRIjDBHVkfg"
      },
      "execution_count": 7,
      "outputs": []
    },
    {
      "cell_type": "markdown",
      "source": [
        "Querying the accounts and their PINs in `bank_system`...  "
      ],
      "metadata": {
        "id": "aF7OOB-MYke1"
      }
    },
    {
      "cell_type": "code",
      "source": [
        "print(f'The bank system has accounts and PINs of {bank_system.account_pins}.')"
      ],
      "metadata": {
        "id": "1WqHBiQCWqRL"
      },
      "execution_count": null,
      "outputs": []
    },
    {
      "cell_type": "markdown",
      "source": [
        "Querying the account number (account.id) and balance (account.balance) of `account1`..."
      ],
      "metadata": {
        "id": "dP3H4EQ2YsOr"
      }
    },
    {
      "cell_type": "code",
      "source": [
        "print(f'Account number: {account1.account_id} has a balance of {account1.balance}.')"
      ],
      "metadata": {
        "id": "1xwJ2F-HVu_X"
      },
      "execution_count": null,
      "outputs": []
    },
    {
      "cell_type": "markdown",
      "source": [
        "Creating `atm_machine` as an instance of <b>ATM</b> and a member in the `bank_system` <b>BankSystem</b> ..."
      ],
      "metadata": {
        "id": "a0Jjad1DY1ch"
      }
    },
    {
      "cell_type": "code",
      "source": [
        "# Creating an ATM instance\n",
        "atm_machine = ATM(bank_system)"
      ],
      "metadata": {
        "id": "2toPS9ivVo-8"
      },
      "execution_count": 17,
      "outputs": []
    },
    {
      "cell_type": "markdown",
      "source": [
        "Example use of the new `atm_machine` with a card attached to the account with the `account.id` of \"123456\" and PIN of \"1234\"..."
      ],
      "metadata": {
        "id": "e_C4d8zmaLBD"
      }
    },
    {
      "cell_type": "code",
      "source": [
        "# Example of using ATM\n",
        "# Insert card (use account number)\n",
        "atm_machine.insert_card(\"123456\")\n",
        "# Enter PIN\n",
        "atm_machine.enter_pin(\"1234\")"
      ],
      "metadata": {
        "id": "2MBzbyPBYZYf"
      },
      "execution_count": 18,
      "outputs": []
    },
    {
      "cell_type": "markdown",
      "source": [
        "Checking the balance of the account whose card in in `atm_machine`..."
      ],
      "metadata": {
        "id": "xyAzN2nLaf1b"
      }
    },
    {
      "cell_type": "code",
      "source": [
        "# Check Balance\n",
        "print(f\"Balance: {atm_machine.check_balance()}\")"
      ],
      "metadata": {
        "id": "qYpN0UXTYb9R"
      },
      "execution_count": null,
      "outputs": []
    },
    {
      "cell_type": "markdown",
      "source": [
        "Depositing $500.00 into the account whose card is in `atm_machine` then checking the `account.balance`..."
      ],
      "metadata": {
        "id": "s8pc9cN-ap39"
      }
    },
    {
      "cell_type": "code",
      "source": [
        "# Deposit Money\n",
        "atm_machine.deposit(500)\n",
        "print(f\"Balance after deposit: {atm_machine.check_balance()}\")"
      ],
      "metadata": {
        "id": "9KD6_j12YfDp"
      },
      "execution_count": null,
      "outputs": []
    },
    {
      "cell_type": "markdown",
      "source": [
        "Withdrawing $200.00 from the account whose card is in `atm_machine` then checking the `account.balance`..."
      ],
      "metadata": {
        "id": "uetPYYsOa-8y"
      }
    },
    {
      "cell_type": "code",
      "source": [
        "# Withdraw Money\n",
        "atm_machine.withdraw(200)\n",
        "print(f\"Balance after withdrawal: {atm_machine.check_balance()}\")"
      ],
      "metadata": {
        "id": "g3W-lsfoYhKt"
      },
      "execution_count": null,
      "outputs": []
    },
    {
      "cell_type": "markdown",
      "source": [
        "\n",
        "\n",
        "---\n",
        "\n"
      ],
      "metadata": {
        "id": "-m1l1d-8VOme"
      }
    },
    {
      "cell_type": "markdown",
      "source": [
        "###5.3 Writing the First Test with `unittest`  \n",
        "  "
      ],
      "metadata": {
        "id": "Bw0HuoBzMrw7"
      }
    },
    {
      "cell_type": "markdown",
      "source": [
        "Functionality Example: <b>Check Account Balance</b>\n",
        "  \n",
        "Sample Test Format:"
      ],
      "metadata": {
        "id": "DgFAufINMyp4"
      }
    },
    {
      "cell_type": "code",
      "execution_count": 22,
      "metadata": {
        "id": "SegWlNm9B4kS"
      },
      "outputs": [],
      "source": [
        "# Check Account Balance TDD test\n",
        "class TestATM(unittest.TestCase):\n",
        "    def test_balance_check(self):\n",
        "        account = Account(123456, 1000) # Account number and initial balance\n",
        "        atm = ATM(account)\n",
        "        self.assertEqual(1000, atm.check_balance())"
      ]
    },
    {
      "cell_type": "markdown",
      "source": [
        "<b><font color='purple'>Write a test for the function assigned to you in the next cell...</font></b>  "
      ],
      "metadata": {
        "id": "NzNY3XWtNXTx"
      }
    },
    {
      "cell_type": "code",
      "source": [],
      "metadata": {
        "id": "J1Pd4Xf8b1uD"
      },
      "execution_count": null,
      "outputs": []
    },
    {
      "cell_type": "markdown",
      "source": [
        "###5.4 Execute the test using the `unittest` framework.\n",
        "<b><font color='red'>(Red phase)</font></b>\n"
      ],
      "metadata": {
        "id": "HqyjFdX2cGsf"
      }
    },
    {
      "cell_type": "code",
      "source": [],
      "metadata": {
        "id": "orGrO4MDcZH2"
      },
      "execution_count": null,
      "outputs": []
    },
    {
      "cell_type": "markdown",
      "source": [
        "###5.5 Implment the minimal code (to pass the test)  \n",
        "<b><font color='green'>(Green phase)</font></b>"
      ],
      "metadata": {
        "id": "9WsyOUgPcvGF"
      }
    },
    {
      "cell_type": "markdown",
      "source": [
        "Here is an example of minimal `ATM` class code (atm.py) to pass the test..."
      ],
      "metadata": {
        "id": "AYO6q7B2dVB3"
      }
    },
    {
      "cell_type": "code",
      "source": [
        "class ATM:\n",
        "    def __init__(self, account):\n",
        "        self.account = account\n",
        "\n",
        "    def check_balance(self):\n",
        "        return self.account.balance\n"
      ],
      "metadata": {
        "id": "m2I5-fEPdbAh"
      },
      "execution_count": null,
      "outputs": []
    },
    {
      "cell_type": "markdown",
      "source": [
        "<b><font color='purple'>Write minimal code for the function assigned to you in the next cell...</font></b>  "
      ],
      "metadata": {
        "id": "l8AuoSwBeI1W"
      }
    },
    {
      "cell_type": "code",
      "source": [],
      "metadata": {
        "id": "kWzLy99JeNHr"
      },
      "execution_count": null,
      "outputs": []
    },
    {
      "cell_type": "markdown",
      "source": [
        "###5.6 Refactor the code   \n",
        "<b><font color='blue'>(Blue phase)</font></b>\n"
      ],
      "metadata": {
        "id": "WobIuJqFdqFV"
      }
    },
    {
      "cell_type": "markdown",
      "source": [
        "- Review the code for improvement opportunities.  \n",
        "- Refactor the code for clarity, efficiency, and readability.  \n",
        "- Ensure the test still passes after refactoring.  "
      ],
      "metadata": {
        "id": "qgyG1cM_dwFO"
      }
    },
    {
      "cell_type": "markdown",
      "source": [
        "<b><font color='purple'>Write refactored code for the function assigned to you in the next cell...</font></b>  "
      ],
      "metadata": {
        "id": "I7sLjelkeWZm"
      }
    },
    {
      "cell_type": "code",
      "source": [],
      "metadata": {
        "id": "rnhskyppdP7n"
      },
      "execution_count": null,
      "outputs": []
    },
    {
      "cell_type": "markdown",
      "source": [
        "###5.7 Adding More Tests for Comprehensive Coverage  \n",
        "  "
      ],
      "metadata": {
        "id": "9kM9fxWSeoxV"
      }
    },
    {
      "cell_type": "markdown",
      "source": [
        "- Introduce additional tests to cover different scenarios (e.g., balance after withdrawal).  \n",
        "- Remember the iterative process of TDD:   \n",
        "  \n",
        "> <b>Write Test -> Implement Code -> Refactor</b>"
      ],
      "metadata": {
        "id": "3EpHVgUierat"
      }
    },
    {
      "cell_type": "markdown",
      "source": [
        "<b><font color='purple'>Write and test additional code for the function assigned to you in the next cell</b> (add cells as you like)...</font>  "
      ],
      "metadata": {
        "id": "W7FVZ-kkfFVj"
      }
    },
    {
      "cell_type": "code",
      "source": [],
      "metadata": {
        "id": "082IOdg9fQNS"
      },
      "execution_count": null,
      "outputs": []
    },
    {
      "cell_type": "markdown",
      "source": [
        "\n",
        "\n",
        "---\n",
        "\n"
      ],
      "metadata": {
        "id": "VwVSpFsxfwIz"
      }
    }
  ]
}