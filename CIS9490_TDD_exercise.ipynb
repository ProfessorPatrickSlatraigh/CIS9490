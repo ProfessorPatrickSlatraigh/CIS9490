{
  "nbformat": 4,
  "nbformat_minor": 0,
  "metadata": {
    "colab": {
      "provenance": [],
      "authorship_tag": "ABX9TyN9eWNvOMKRHbog2ivpZQzd",
      "include_colab_link": true
    },
    "kernelspec": {
      "name": "python3",
      "display_name": "Python 3"
    },
    "language_info": {
      "name": "python"
    }
  },
  "cells": [
    {
      "cell_type": "markdown",
      "metadata": {
        "id": "view-in-github",
        "colab_type": "text"
      },
      "source": [
        "<a href=\"https://colab.research.google.com/github/ProfessorPatrickSlatraigh/CIS9490/blob/main/CIS9490_TDD_exercise.ipynb\" target=\"_parent\"><img src=\"https://colab.research.google.com/assets/colab-badge.svg\" alt=\"Open In Colab\"/></a>"
      ]
    },
    {
      "cell_type": "markdown",
      "source": [
        "# **CIS9490 - Systems Analysis and Design**\n",
        "  \n",
        "**Week #14**    \n",
        "**Class #14**  \n",
        "**AMDD (Agile Model-Driven Development) - TDD (Test-Driven Development)**    \n",
        "  \n",
        "\n",
        "*created by Professor Patrick: 02-Dec-2023*  \n",
        "*link to this notebook: bit.ly/cis9490wk14cl14*   \n"
      ],
      "metadata": {
        "id": "TN1o30RTB-zQ"
      }
    },
    {
      "cell_type": "markdown",
      "source": [
        "##Learning Objectives  \n",
        "\n",
        "1. Understand the fundamentals of Test-Driven Development (TDD)\n",
        "2. Learn an approach to TDD  \n",
        "3. Recognize the alignment of TDD with AMDD     \n",
        "4. Consider practical concerns of TDD\n",
        "5. Apply a TDD approach in practice   \n"
      ],
      "metadata": {
        "id": "Slvsg42FC3C9"
      }
    },
    {
      "cell_type": "markdown",
      "source": [
        "##1. Fundamentals of Test-Driven Development (TDD)  "
      ],
      "metadata": {
        "id": "AomhbljCD-Uh"
      }
    },
    {
      "cell_type": "markdown",
      "source": [
        "- TDD: A software development approach where tests are written before the code.  \n",
        "- Integral part of Agile methodologies, including Agile Model-Driven Development (AMDD)  "
      ],
      "metadata": {
        "id": "3rEER12NHDvp"
      }
    },
    {
      "cell_type": "markdown",
      "source": [
        "- Tests should be simple, clear, and focused on one functionality.  \n",
        "- Use descriptive names for tests to indicate their purpose.  "
      ],
      "metadata": {
        "id": "XZUxwn3dG2c3"
      }
    },
    {
      "cell_type": "markdown",
      "source": [
        "- Test-First Principle: Write a failing test before writing the production code.  \n",
        "- Ensures development focuses on meeting specific requirements.  "
      ],
      "metadata": {
        "id": "8GKQ3SleHEqt"
      }
    },
    {
      "cell_type": "markdown",
      "source": [
        "##2. Approach: TDD Process Overview  \n",
        "\n",
        ""
      ],
      "metadata": {
        "id": "u0lt4bZTEhAQ"
      }
    },
    {
      "cell_type": "markdown",
      "source": [
        "1. Write a test for a new function or feature  \n",
        "2. Run the test to <b><font color='red'>ensure it fails (Red phase)</font></b>  \n",
        "3. Implement the minimum code necessary to <b><font color='green'>pass the test (Green phase)</font></b>  \n",
        "4. Refactor the code for optimization and clarity <b><font color='blue'>(Refactor phase)</font></b>    "
      ],
      "metadata": {
        "id": "PZ7S7xkDG-MS"
      }
    },
    {
      "cell_type": "markdown",
      "source": [
        "<b><u>Refactoring in TDD</b></u>  \n",
        "  \n",
        "- Continuous improvement of the code without altering functionality.  \n",
        "- Enhances code readability, reduces complexity, and improves maintainability.  "
      ],
      "metadata": {
        "id": "G-fpgYPoHRSP"
      }
    },
    {
      "cell_type": "markdown",
      "source": [
        "##3. Benefits of TDD in an Agile Environment  \n",
        "  \n",
        "\n"
      ],
      "metadata": {
        "id": "CW2eTYuNEp9i"
      }
    },
    {
      "cell_type": "markdown",
      "source": [
        "- Ensures clarity of requirements before coding.  \n",
        "- Leads to higher quality code with fewer bugs.  \n",
        "- Facilitates continuous integration and frequent iteration.  "
      ],
      "metadata": {
        "id": "nSnJEKuCIoyP"
      }
    },
    {
      "cell_type": "markdown",
      "source": [
        "##4. Practical Considerations of Using TDD  \n",
        "  "
      ],
      "metadata": {
        "id": "hYwRO4ylItsU"
      }
    },
    {
      "cell_type": "markdown",
      "source": [
        "###4.1 TDD Challenges  \n",
        "  "
      ],
      "metadata": {
        "id": "4SuPSTYjIzGa"
      }
    },
    {
      "cell_type": "markdown",
      "source": [
        "- Requires a mindset shift towards test-first development.  \n",
        "- Initial learning curve and potential increase in upfront development time.  "
      ],
      "metadata": {
        "id": "f_1NDv3kKZYY"
      }
    },
    {
      "cell_type": "markdown",
      "source": [
        "###4.2 TDD Tools and Frameworks  \n",
        "  "
      ],
      "metadata": {
        "id": "stRyDi2rI-Up"
      }
    },
    {
      "cell_type": "markdown",
      "source": [
        "- Popular TDD tools   \n",
        "  - [JUnit for Java](https://junit.org/junit5/)  \n",
        "  - [NUnit for .NET](https://nunit.org/)  \n",
        "  - [unittest](https://docs.python.org/3/library/unittest.html) Python library   \n",
        "- Continuous integration tools in supporting TDD  \n",
        "  -  e.g., [Jenkins](https://www.jenkins.io/doc/developer/testing/)  \n",
        "    "
      ],
      "metadata": {
        "id": "98FjF1s-JE3-"
      }
    },
    {
      "cell_type": "markdown",
      "source": [
        "###4.3 TDD Best Practices  \n",
        "  "
      ],
      "metadata": {
        "id": "uPQJ2BxKKVrJ"
      }
    },
    {
      "cell_type": "markdown",
      "source": [
        "- Write tests for all new features and bug fixes.  \n",
        "- Keep tests independent and ensure they run quickly.  \n",
        "- Regularly review and refactor tests as code evolves.  "
      ],
      "metadata": {
        "id": "ZeyZeBmTKnSZ"
      }
    },
    {
      "cell_type": "markdown",
      "source": [
        "##5. <u>Exercise: TDD in Practice</u>  "
      ],
      "metadata": {
        "id": "N0MqhCk9Holh"
      }
    },
    {
      "cell_type": "code",
      "execution_count": null,
      "metadata": {
        "id": "SegWlNm9B4kS"
      },
      "outputs": [],
      "source": []
    }
  ]
}